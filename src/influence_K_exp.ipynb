{
 "cells": [
  {
   "cell_type": "code",
   "execution_count": 1,
   "id": "3afffca1-ac3a-41ac-a51e-9110eb63c45f",
   "metadata": {},
   "outputs": [],
   "source": [
    "%matplotlib tk\n",
    "from network import *\n",
    "from inference import *\n",
    "import numpy as np\n",
    "from tools import *\n",
    "import matplotlib.cm as cm\n",
    "%load_ext autoreload\n",
    "%autoreload 2"
   ]
  },
  {
   "cell_type": "code",
   "execution_count": 2,
   "id": "72610f42-f73b-4fcd-ae3e-15b9666867e6",
   "metadata": {},
   "outputs": [],
   "source": [
    "import seaborn as sns\n",
    "sns.set_style(\"ticks\")\n",
    "sns.set_context(\"notebook\")\n",
    "#sns.color_palette(\"pastel\")\n",
    "plt.rcParams[\"animation.html\"] = \"jshtml\"\n",
    "plt.rcParams['font.family'] = 'serif'\n",
    "plt.rcParams['font.serif'] = 'Ubuntu'\n",
    "plt.rcParams['font.monospace'] = 'Ubuntu Mono'\n",
    "plt.rcParams['font.size'] = 10\n",
    "plt.rcParams['axes.labelsize'] = 35\n",
    "plt.rcParams['axes.labelweight'] = 'bold'\n",
    "plt.rcParams['axes.titlesize'] = 45\n",
    "plt.rcParams['ytick.labelsize'] = 20\n",
    "plt.rcParams['xtick.labelsize'] = 20\n",
    "from matplotlib import rc\n",
    "rc(\"text\", usetex=True)"
   ]
  },
  {
   "cell_type": "code",
   "execution_count": 13,
   "id": "067f6e6b-74e5-4422-95d4-596bd87fc016",
   "metadata": {},
   "outputs": [],
   "source": [
    "K_exps = np.arange(1,20)\n",
    "\n",
    "N = 300\n",
    "avg_degree_A0 = 300\n",
    "K_aff = 3\n",
    "dirichlet = 1\n",
    "prob_ratio = 0.1\n",
    "symmetric = True"
   ]
  },
  {
   "cell_type": "code",
   "execution_count": 14,
   "id": "e2090383-b1f4-4424-838c-cc34941695be",
   "metadata": {},
   "outputs": [],
   "source": [
    "seed = 42\n",
    "random_state = np.random.RandomState(seed=seed)\n",
    "\n",
    "network = Network(N=N, K_aff=K_aff, seed=seed, dirichlet=dirichlet, prob_ratio=prob_ratio)\n",
    "lam = network.lam.copy()\n",
    "np.fill_diagonal(lam, 0)\n",
    "imgs = []\n",
    "muijs = []\n",
    "\n",
    "for i,K_exp in enumerate(K_exps): \n",
    "    mu = random_state.dirichlet(dirichlet * np.ones(K_exp), size=N)\n",
    "    mu_ij = np.einsum('ik,jk->ij', mu, mu)\n",
    "    muijs.append(mu_ij)\n",
    "    imgs.append(lam*mu_ij)"
   ]
  },
  {
   "cell_type": "code",
   "execution_count": 15,
   "id": "35dbea8f-208a-44e3-9df7-b6cf55cd2f1e",
   "metadata": {},
   "outputs": [
    {
     "name": "stderr",
     "output_type": "stream",
     "text": [
      "Warning: discarding the 'bbox_inches' argument in 'savefig_kwargs' as it may cause frame size to vary, which is inappropriate for animation.\n"
     ]
    }
   ],
   "source": [
    "import matplotlib.pyplot as plt\n",
    "import matplotlib.cm as cm\n",
    "import matplotlib.animation as animation\n",
    "\n",
    "\n",
    "artists = [] # for storing the generated images\n",
    "fig, axs = plt.subplots(1,3, figsize=(20,10),gridspec_kw={'width_ratios': [1, 4, 4]})\n",
    "\n",
    "frames = []\n",
    "\n",
    "for i,K in enumerate(K_exps): \n",
    "    #plt.title(f\"K={K}\")\n",
    "    axs[0].axis(\"off\")\n",
    "    title = axs[0].text(0.5,0.5,\"$\\\\tilde{K}$\"+f\"= {K}\", size=45,  ha=\"center\", transform=axs[0].transAxes, animated=True)\n",
    "    axs[1].set_title(\"$\\mu_{ij}$\", pad=30)\n",
    "    axs[2].set_title(\"$\\lambda \\cdot \\mu_{ij}$\", pad=30)\n",
    "\n",
    "    \n",
    "    frames.append([axs[1].imshow(muijs[i],animated=True), axs[2].imshow(imgs[i],animated=True), title])\n",
    "\n",
    "ani = animation.ArtistAnimation(fig, frames, interval=300, blit=True,\n",
    "                                repeat_delay=300)\n",
    "ani.save('changing_K_exp.gif', savefig_kwargs={\"bbox_inches\": \"extend\"})\n",
    "plt.show()"
   ]
  },
  {
   "cell_type": "code",
   "execution_count": null,
   "id": "04d7f4c9-10de-440a-86a5-19f3097ce08b",
   "metadata": {},
   "outputs": [],
   "source": []
  }
 ],
 "metadata": {
  "kernelspec": {
   "display_name": "Python 3 (ipykernel)",
   "language": "python",
   "name": "python3"
  },
  "language_info": {
   "codemirror_mode": {
    "name": "ipython",
    "version": 3
   },
   "file_extension": ".py",
   "mimetype": "text/x-python",
   "name": "python",
   "nbconvert_exporter": "python",
   "pygments_lexer": "ipython3",
   "version": "3.9.7"
  }
 },
 "nbformat": 4,
 "nbformat_minor": 5
}
