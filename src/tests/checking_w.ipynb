{
 "cells": [
  {
   "cell_type": "code",
   "execution_count": 1,
   "id": "b4643aeb-8574-48e7-8a52-f21363f97825",
   "metadata": {},
   "outputs": [],
   "source": [
    "from network import *\n",
    "import sys\n",
    "from inference_symmetric import *\n",
    "import numpy as np\n",
    "np.set_printoptions(suppress=True)\n",
    "import matplotlib.pyplot as plt\n",
    "%load_ext autoreload\n",
    "%autoreload 2"
   ]
  },
  {
   "cell_type": "code",
   "execution_count": 2,
   "id": "733fad1e-a85e-4390-ba95-6b8979230ade",
   "metadata": {},
   "outputs": [],
   "source": [
    "T,N = 100,50\n",
    "symmetric=True\n",
    "\n",
    "network = Network(N=N, dirichlet=0.5)\n",
    "\n",
    "A0 = network.generate_A0(T=T, avg_degree=100, symmetric=symmetric)\n",
    "for t in range(T): \n",
    "    assert(np.all(A0[t] == A0[t].T))"
   ]
  },
  {
   "cell_type": "code",
   "execution_count": 3,
   "id": "ad998c81-f14c-45cf-8e8f-ae6cd7289d71",
   "metadata": {},
   "outputs": [],
   "source": [
    "u, w = network.get_u(), network.get_w()"
   ]
  },
  {
   "cell_type": "code",
   "execution_count": 4,
   "id": "c222d2aa-3fc7-4867-9866-43e9f0b290ce",
   "metadata": {},
   "outputs": [
    {
     "data": {
      "text/plain": [
       "<matplotlib.image.AxesImage at 0x7f45149b9490>"
      ]
     },
     "execution_count": 4,
     "metadata": {},
     "output_type": "execute_result"
    },
    {
     "data": {
      "image/png": "[encoded data removed]",
      "text/plain": [
       "<Figure size 432x288 with 1 Axes>"
      ]
     },
     "metadata": {
      "needs_background": "light"
     },
     "output_type": "display_data"
    }
   ],
   "source": [
    "plt.imshow(A0.sum(axis=0))"
   ]
  },
  {
   "cell_type": "code",
   "execution_count": 5,
   "id": "8ec2fedd-5cc9-4d04-8092-10b453c225e4",
   "metadata": {},
   "outputs": [],
   "source": [
    "seeds = [697752728, 4190089612, 1176914559, 3077924848, 315917623, 2544020234, 1077758578, 4071300106, 534591752, 3553386411]"
   ]
  },
  {
   "cell_type": "markdown",
   "id": "41b9712e-76ca-4b25-941c-00e35860be50",
   "metadata": {},
   "source": [
    "## NoExp Inference_symmetric"
   ]
  },
  {
   "cell_type": "code",
   "execution_count": 6,
   "id": "0bd8a6be-a39d-45ce-a3ea-25b5f0ff75a9",
   "metadata": {},
   "outputs": [],
   "source": [
    "import inference"
   ]
  },
  {
   "cell_type": "markdown",
   "id": "2fc929c3-6032-4cf6-a71e-4220bfefa0b6",
   "metadata": {
    "tags": []
   },
   "source": [
    "## true affinity matrix"
   ]
  },
  {
   "cell_type": "code",
   "execution_count": 7,
   "id": "00e588b4-429d-4112-b297-4772f56329b2",
   "metadata": {},
   "outputs": [
    {
     "name": "stdout",
     "output_type": "stream",
     "text": [
      "running NoExp inference for 5000 iterations: \n",
      "\n",
      "No exposure inference with T=100, N=50, K=3 and 5000 iterations took 2.650506225000754 seconds\n",
      "\n",
      "\u001b[1mseed=697752728: acc_u=0.9997158993793741, acc_v=0.9997158993793741\u001b[0m\n",
      "running NoExp inference for 5000 iterations: \n",
      "\n",
      "No exposure inference with T=100, N=50, K=3 and 5000 iterations took 2.681505733999984 seconds\n",
      "\n",
      "\u001b[1mseed=4190089612: acc_u=0.9997253936492541, acc_v=0.9997253936492541\u001b[0m\n",
      "running NoExp inference for 5000 iterations: \n",
      "\n",
      "No exposure inference with T=100, N=50, K=3 and 5000 iterations took 2.636811057000159 seconds\n",
      "\n",
      "\u001b[1mseed=1176914559: acc_u=0.9996762789134246, acc_v=0.9996762789134246\u001b[0m\n",
      "running NoExp inference for 5000 iterations: \n",
      "\n",
      "No exposure inference with T=100, N=50, K=3 and 5000 iterations took 2.646814784000526 seconds\n",
      "\n",
      "\u001b[1mseed=3077924848: acc_u=0.9997254139703386, acc_v=0.9997254139703386\u001b[0m\n",
      "running NoExp inference for 5000 iterations: \n",
      "\n",
      "No exposure inference with T=100, N=50, K=3 and 5000 iterations took 2.631041794000339 seconds\n",
      "\n",
      "\u001b[1mseed=315917623: acc_u=0.9996972282728628, acc_v=0.9996972282728628\u001b[0m\n",
      "running NoExp inference for 5000 iterations: \n",
      "\n",
      "No exposure inference with T=100, N=50, K=3 and 5000 iterations took 2.625987045000329 seconds\n",
      "\n",
      "\u001b[1mseed=2544020234: acc_u=0.9997259748507068, acc_v=0.9997259748507068\u001b[0m\n",
      "running NoExp inference for 5000 iterations: \n",
      "\n",
      "No exposure inference with T=100, N=50, K=3 and 5000 iterations took 2.62865110400071 seconds\n",
      "\n",
      "\u001b[1mseed=1077758578: acc_u=0.9997140036271294, acc_v=0.9997140036271294\u001b[0m\n",
      "running NoExp inference for 5000 iterations: \n",
      "\n",
      "No exposure inference with T=100, N=50, K=3 and 5000 iterations took 2.639990028000284 seconds\n",
      "\n",
      "\u001b[1mseed=4071300106: acc_u=0.9997245984591391, acc_v=0.9997245984591391\u001b[0m\n",
      "running NoExp inference for 5000 iterations: \n",
      "\n",
      "No exposure inference with T=100, N=50, K=3 and 5000 iterations took 2.6291894280002452 seconds\n",
      "\n",
      "\u001b[1mseed=534591752: acc_u=0.9997272642132781, acc_v=0.9997272642132781\u001b[0m\n",
      "running NoExp inference for 5000 iterations: \n",
      "\n",
      "No exposure inference with T=100, N=50, K=3 and 5000 iterations took 2.639564330000212 seconds\n",
      "\n",
      "\u001b[1mseed=3553386411: acc_u=0.9997206503050157, acc_v=0.9997206503050157\u001b[0m\n"
     ]
    }
   ],
   "source": [
    "for seed in seeds: \n",
    "    losses_noexp, theta_noexp = inference.fit_noexp(A0, 3, seed=seed, symmetric=True, true_w=w)\n",
    "    u_noexp, v_noexp, w_noexp = theta_noexp\n",
    "    acc_u, acc_v = evaluate_memberships(u, u_noexp, u, u_noexp, verbose=False)[0:2]\n",
    "    print_bold(f\"seed={seed}: acc_u={acc_u}, acc_v={acc_v}\")"
   ]
  },
  {
   "cell_type": "markdown",
   "id": "d06d86ba-a7bf-45ef-a25f-e731f477eb13",
   "metadata": {
    "tags": []
   },
   "source": [
    "## true initial affinity matrix with random noise"
   ]
  },
  {
   "cell_type": "code",
   "execution_count": 8,
   "id": "a88e91b1-9551-4764-9246-48a036d9f0af",
   "metadata": {},
   "outputs": [],
   "source": [
    "random_noise = np.random.uniform(low=0, high=1e-2, size=(3,3))"
   ]
  },
  {
   "cell_type": "code",
   "execution_count": 9,
   "id": "22d2574c-f03b-444d-8361-7d75657cacd3",
   "metadata": {},
   "outputs": [
    {
     "name": "stdout",
     "output_type": "stream",
     "text": [
      "running NoExp inference for 5000 iterations: \n",
      "\n",
      "No exposure inference with T=100, N=50, K=3 and 5000 iterations took 4.279428025000016 seconds\n",
      "\n",
      "\u001b[1mseed=697752728: acc_u=0.9982192589275242, acc_v=0.9982192589275242\u001b[0m\n",
      "running NoExp inference for 5000 iterations: \n",
      "\n",
      "No exposure inference with T=100, N=50, K=3 and 5000 iterations took 4.300974638999833 seconds\n",
      "\n",
      "\u001b[1mseed=4190089612: acc_u=0.9985739161777384, acc_v=0.9985739161777384\u001b[0m\n",
      "running NoExp inference for 5000 iterations: \n",
      "\n",
      "No exposure inference with T=100, N=50, K=3 and 5000 iterations took 4.375595221000367 seconds\n",
      "\n",
      "\u001b[1mseed=1176914559: acc_u=0.9969055233447821, acc_v=0.9969055233447821\u001b[0m\n",
      "running NoExp inference for 5000 iterations: \n",
      "\n",
      "No exposure inference with T=100, N=50, K=3 and 5000 iterations took 4.274513689000742 seconds\n",
      "\n",
      "\u001b[1mseed=3077924848: acc_u=0.997616568306555, acc_v=0.997616568306555\u001b[0m\n",
      "running NoExp inference for 5000 iterations: \n",
      "\n",
      "No exposure inference with T=100, N=50, K=3 and 5000 iterations took 4.2926338080005735 seconds\n",
      "\n",
      "\u001b[1mseed=315917623: acc_u=0.998029920675343, acc_v=0.998029920675343\u001b[0m\n",
      "running NoExp inference for 5000 iterations: \n",
      "\n",
      "No exposure inference with T=100, N=50, K=3 and 5000 iterations took 4.305759586000022 seconds\n",
      "\n",
      "\u001b[1mseed=2544020234: acc_u=0.9977199430300021, acc_v=0.9977199430300021\u001b[0m\n",
      "running NoExp inference for 5000 iterations: \n",
      "\n",
      "Convergence Criterium satisfied\n",
      "No exposure inference with T=100, N=50, K=3 and 3990 iterations took 3.436400483000398 seconds\n",
      "\n",
      "\u001b[1mseed=1077758578: acc_u=0.9983061170534404, acc_v=0.9983061170534404\u001b[0m\n",
      "running NoExp inference for 5000 iterations: \n",
      "\n",
      "Convergence Criterium satisfied\n",
      "No exposure inference with T=100, N=50, K=3 and 4010 iterations took 3.461902452999311 seconds\n",
      "\n",
      "\u001b[1mseed=4071300106: acc_u=0.9964130382516597, acc_v=0.9964130382516597\u001b[0m\n",
      "running NoExp inference for 5000 iterations: \n",
      "\n",
      "Convergence Criterium satisfied\n",
      "No exposure inference with T=100, N=50, K=3 and 4100 iterations took 3.662785415000144 seconds\n",
      "\n",
      "\u001b[1mseed=534591752: acc_u=0.999349667684227, acc_v=0.999349667684227\u001b[0m\n",
      "running NoExp inference for 5000 iterations: \n",
      "\n",
      "Convergence Criterium satisfied\n",
      "No exposure inference with T=100, N=50, K=3 and 4200 iterations took 3.7768743679998806 seconds\n",
      "\n",
      "\u001b[1mseed=3553386411: acc_u=0.9994183869278502, acc_v=0.9994183869278502\u001b[0m\n"
     ]
    }
   ],
   "source": [
    "for seed in seeds: \n",
    "    losses_noexp, theta_noexp = inference.fit_noexp(A0, 3, seed=seed, symmetric=True, initial_w=w+random_noise)\n",
    "    u_noexp, v_noexp, w_noexp = theta_noexp\n",
    "    acc_u, acc_v = evaluate_memberships(u, u_noexp, u, u_noexp, verbose=False)[0:2]\n",
    "    print_bold(f\"seed={seed}: acc_u={acc_u}, acc_v={acc_v}\")"
   ]
  },
  {
   "cell_type": "markdown",
   "id": "93007579-0c89-43bb-9b17-ecf3995923d6",
   "metadata": {},
   "source": [
    "## Investigating seed 1176914559"
   ]
  },
  {
   "cell_type": "code",
   "execution_count": 11,
   "id": "d76459eb-cafb-4804-be6f-75e5f96e3ee7",
   "metadata": {},
   "outputs": [
    {
     "name": "stdout",
     "output_type": "stream",
     "text": [
      "running NoExp inference for 5000 iterations: \n",
      "\n",
      "No exposure inference with T=100, N=50, K=3 and 5000 iterations took 4.472114023999893 seconds\n",
      "\n",
      "[[ 0.6  7.8 21.3]\n",
      " [ 7.8  0.  13.8]\n",
      " [21.3 13.8  7.8]]\n",
      "(50, 3)\n",
      "\u001b[1mseed=1176914559: acc_u=0.6935716359521084, acc_v=0.6935716359521084\u001b[0m\n"
     ]
    },
    {
     "data": {
      "image/png": "[encoded data removed]",
      "text/plain": [
       "<Figure size 576x1152 with 2 Axes>"
      ]
     },
     "metadata": {
      "needs_background": "light"
     },
     "output_type": "display_data"
    }
   ],
   "source": [
    "from sklearn.preprocessing import normalize\n",
    "\n",
    "seed = 1176914559\n",
    "\n",
    "losses_noexp, theta_noexp = inference.fit_noexp(A0, 3, seed=seed, symmetric=True)\n",
    "u_noexp, v_noexp, w_noexp = theta_noexp\n",
    "print(np.round(w_noexp,4) * 1000)\n",
    "\n",
    "fig, axs = plt.subplots(1,2, figsize=(8,16))\n",
    "u_perm = permute_memberships(u, u_noexp, u, u_noexp)[0]\n",
    "print(u_perm.shape)\n",
    "axs[0].imshow(u)\n",
    "axs[1].imshow(u_perm)\n",
    "axs[0].set_title(\"u_GT\", fontsize=20)\n",
    "axs[1].set_title(\"u_est\", fontsize=20)\n",
    "acc_u, acc_v = evaluate_memberships(u, u_noexp, u, u_noexp, verbose=False)[0:2]\n",
    "print_bold(f\"seed={seed}: acc_u={acc_u}, acc_v={acc_v}\")"
   ]
  },
  {
   "cell_type": "code",
   "execution_count": 12,
   "id": "3d5e276e-721a-4efa-934b-fbe39d405e8c",
   "metadata": {},
   "outputs": [
    {
     "name": "stdout",
     "output_type": "stream",
     "text": [
      "running NoExp inference for 5000 iterations: \n",
      "\n",
      "No exposure inference with T=100, N=50, K=3 and 5000 iterations took 6.804999490001137 seconds\n",
      "\n",
      "[[3030.8  156.5  316.6]\n",
      " [ 189.9 2108.5  334.7]\n",
      " [ 417.4  406.9 5948.3]]\n",
      "(50, 3)\n",
      "\u001b[1mseed=1176914559: acc_u=0.987055352497203, acc_v=0.9942840337213302\u001b[0m\n"
     ]
    },
    {
     "data": {
      "image/png": "[encoded data removed]",
      "text/plain": [
       "<Figure size 576x1152 with 2 Axes>"
      ]
     },
     "metadata": {
      "needs_background": "light"
     },
     "output_type": "display_data"
    }
   ],
   "source": [
    "from sklearn.preprocessing import normalize\n",
    "\n",
    "seed = 1176914559\n",
    "\n",
    "losses_exp, theta_exp = inference.fit_noexp(A0, 3, seed=seed, symmetric=False)\n",
    "u_exp, v_exp, w_exp = theta_exp\n",
    "print(np.round(w_exp,4) * 1000)\n",
    "\n",
    "fig, axs = plt.subplots(1,2, figsize=(8,16))\n",
    "u_perm = permute_memberships(u, u_exp, u, u_exp)[0]\n",
    "print(u_perm.shape)\n",
    "axs[0].imshow(u)\n",
    "axs[1].imshow(u_perm)\n",
    "axs[0].set_title(\"u_GT\", fontsize=20)\n",
    "axs[1].set_title(\"u_est\", fontsize=20)\n",
    "acc_u, acc_v = evaluate_memberships(u, u_exp, u, v_exp, verbose=False)[0:2]\n",
    "print_bold(f\"seed={seed}: acc_u={acc_u}, acc_v={acc_v}\")"
   ]
  },
  {
   "cell_type": "code",
   "execution_count": 13,
   "id": "eb0597ec-c3c0-4b15-b5b3-a50d1d4e8d89",
   "metadata": {},
   "outputs": [
    {
     "data": {
      "image/png": "[encoded data removed]",
      "text/plain": [
       "<Figure size 720x288 with 1 Axes>"
      ]
     },
     "metadata": {
      "needs_background": "light"
     },
     "output_type": "display_data"
    },
    {
     "data": {
      "image/png": "[encoded data removed]",
      "text/plain": [
       "<Figure size 720x288 with 1 Axes>"
      ]
     },
     "metadata": {
      "needs_background": "light"
     },
     "output_type": "display_data"
    }
   ],
   "source": [
    "plot_losses(losses_noexp[0], title=\"loss function\")\n",
    "plot_losses(losses_noexp[1], title=\"theta updates\")"
   ]
  }
 ],
 "metadata": {
  "kernelspec": {
   "display_name": "Python 3 (ipykernel)",
   "language": "python",
   "name": "python3"
  },
  "language_info": {
   "codemirror_mode": {
    "name": "ipython",
    "version": 3
   },
   "file_extension": ".py",
   "mimetype": "text/x-python",
   "name": "python",
   "nbconvert_exporter": "python",
   "pygments_lexer": "ipython3",
   "version": "3.9.7"
  }
 },
 "nbformat": 4,
 "nbformat_minor": 5
}
