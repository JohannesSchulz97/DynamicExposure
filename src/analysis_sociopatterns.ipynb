{
 "cells": [
  {
   "cell_type": "code",
   "execution_count": 1,
   "id": "a665b29b-b8f1-4388-a36d-7b4e511a0eab",
   "metadata": {},
   "outputs": [],
   "source": [
    "import sys\n",
    "sys.path.append(\"..\")\n",
    "import pandas as pd\n",
    "import numpy as np\n",
    "import matplotlib.pyplot as plt\n",
    "import matplotlib\n",
    "import datetime\n",
    "from datetime import datetime, timedelta\n",
    "from tools import *\n",
    "import os"
   ]
  },
  {
   "cell_type": "code",
   "execution_count": 2,
   "id": "56442d97-e1af-424f-9c9e-03713fa523c3",
   "metadata": {},
   "outputs": [],
   "source": [
    "%load_ext autoreload\n",
    "%autoreload 2"
   ]
  },
  {
   "cell_type": "code",
   "execution_count": 3,
   "id": "e7acc0ff-0512-44b7-8658-38300bbfe106",
   "metadata": {},
   "outputs": [],
   "source": [
    "import warnings\n",
    "warnings.filterwarnings('ignore')"
   ]
  },
  {
   "cell_type": "code",
   "execution_count": 4,
   "id": "ceec7cff-8782-4231-b26d-9b6dd89eba9a",
   "metadata": {
    "tags": []
   },
   "outputs": [],
   "source": [
    "import seaborn as sns\n",
    "sns.set_style(\"ticks\")\n",
    "sns.set_context(\"notebook\")\n",
    "sns.color_palette(\"colorblind\")\n",
    "plt.rcParams['font.family'] = 'serif'\n",
    "plt.rcParams['font.serif'] = 'Ubuntu'\n",
    "plt.rcParams['font.monospace'] = 'Ubuntu Mono'\n",
    "plt.rcParams['font.size'] = 10\n",
    "plt.rcParams['axes.labelsize'] = 35\n",
    "plt.rcParams['axes.labelweight'] = 'bold'\n",
    "plt.rcParams['axes.titlesize'] = 45\n",
    "plt.rcParams['ytick.labelsize'] = 25\n",
    "plt.rcParams['xtick.labelsize'] = 25\n",
    "from matplotlib import rc\n",
    "rc(\"text\", usetex=True)\n",
    "plt.rcParams['text.latex.preamble'] = r'\\usepackage{amsmath}' + '\\n'  + r'\\usepackage{amssymb}'"
   ]
  },
  {
   "cell_type": "code",
   "execution_count": 5,
   "id": "9ab645dc-f64d-4067-810d-dbe7c633d76e",
   "metadata": {},
   "outputs": [
    {
     "data": {
      "text/plain": [
       "<Figure size 432x288 with 0 Axes>"
      ]
     },
     "metadata": {},
     "output_type": "display_data"
    }
   ],
   "source": [
    "plt.subplots_adjust(left=None, bottom=None, right=None, top=None, wspace=None, hspace=None)"
   ]
  },
  {
   "cell_type": "code",
   "execution_count": 6,
   "id": "e007ebaf-9634-4185-a1ba-45840c0193dc",
   "metadata": {},
   "outputs": [],
   "source": [
    "in_folder = \"../data/input/sociopatterns/\"\n",
    "out_folder = \"../data/output/sociopatterns/\""
   ]
  },
  {
   "cell_type": "code",
   "execution_count": 7,
   "id": "229d765c-a409-4e51-a66d-878b69da7ebf",
   "metadata": {},
   "outputs": [],
   "source": [
    "datasets = os.listdir(in_folder)\n",
    "\n",
    "seeds = [697752728, 4190089612, 1176914559, 3077924848, 315917623, 2544020234, 1077758578, 4071300106, 534591752, 3553386411]\n",
    "K_affs = [1,3,5,7,9,11]\n",
    "folds = [0,1,2,3,4]\n",
    "colors = [\"red\", \"orange\", \"blue\", \"grey\", \"cyan\"]"
   ]
  },
  {
   "cell_type": "code",
   "execution_count": 8,
   "id": "a916c947-a7a7-4060-acf3-2034a0cfd475",
   "metadata": {},
   "outputs": [
    {
     "data": {
      "text/plain": [
       "['workplace01', 'highschool', 'hospital', 'primary_school', 'workplace02']"
      ]
     },
     "execution_count": 8,
     "metadata": {},
     "output_type": "execute_result"
    }
   ],
   "source": [
    "datasets"
   ]
  },
  {
   "cell_type": "code",
   "execution_count": 9,
   "id": "5ede4ce9-d9ed-48f7-9e9d-b690aa4f5fe1",
   "metadata": {},
   "outputs": [
    {
     "ename": "FileNotFoundError",
     "evalue": "[Errno 2] No such file or directory: '../data/output/sociopatterns/workplace01/training_NoExp_697752728_0_5.npz'",
     "output_type": "error",
     "traceback": [
      "\u001b[0;31m---------------------------------------------------------------------------\u001b[0m",
      "\u001b[0;31mFileNotFoundError\u001b[0m                         Traceback (most recent call last)",
      "\u001b[0;32m/tmp/ipykernel_127996/894650919.py\u001b[0m in \u001b[0;36m<module>\u001b[0;34m\u001b[0m\n\u001b[1;32m     24\u001b[0m \u001b[0;32mfor\u001b[0m \u001b[0mseed\u001b[0m \u001b[0;32min\u001b[0m \u001b[0mseeds\u001b[0m\u001b[0;34m:\u001b[0m\u001b[0;34m\u001b[0m\u001b[0;34m\u001b[0m\u001b[0m\n\u001b[1;32m     25\u001b[0m     \u001b[0mtraining_noexp\u001b[0m \u001b[0;34m=\u001b[0m \u001b[0;34mf\"training_NoExp_{seed}_{fold}_{K_aff}.npz\"\u001b[0m\u001b[0;34m\u001b[0m\u001b[0;34m\u001b[0m\u001b[0m\n\u001b[0;32m---> 26\u001b[0;31m     \u001b[0mscore_noexp\u001b[0m \u001b[0;34m=\u001b[0m \u001b[0mnp\u001b[0m\u001b[0;34m.\u001b[0m\u001b[0mload\u001b[0m\u001b[0;34m(\u001b[0m\u001b[0mout_folder\u001b[0m \u001b[0;34m+\u001b[0m \u001b[0mdataset\u001b[0m \u001b[0;34m+\u001b[0m \u001b[0;34m\"/\"\u001b[0m \u001b[0;34m+\u001b[0m \u001b[0mtraining_noexp\u001b[0m\u001b[0;34m)\u001b[0m\u001b[0;34m[\u001b[0m\u001b[0;34m\"losses\"\u001b[0m\u001b[0;34m]\u001b[0m\u001b[0;34m[\u001b[0m\u001b[0;34m-\u001b[0m\u001b[0;36m1\u001b[0m\u001b[0;34m]\u001b[0m\u001b[0;34m\u001b[0m\u001b[0;34m\u001b[0m\u001b[0m\n\u001b[0m\u001b[1;32m     27\u001b[0m     \u001b[0;32mif\u001b[0m \u001b[0mscore_noexp\u001b[0m \u001b[0;34m>\u001b[0m \u001b[0mbest_score_noexp\u001b[0m\u001b[0;34m:\u001b[0m\u001b[0;34m\u001b[0m\u001b[0;34m\u001b[0m\u001b[0m\n\u001b[1;32m     28\u001b[0m         \u001b[0mbest_score_noexp\u001b[0m \u001b[0;34m=\u001b[0m \u001b[0mscore_noexp\u001b[0m\u001b[0;34m\u001b[0m\u001b[0;34m\u001b[0m\u001b[0m\n",
      "\u001b[0;32m~/anaconda3/lib/python3.9/site-packages/numpy/lib/npyio.py\u001b[0m in \u001b[0;36mload\u001b[0;34m(file, mmap_mode, allow_pickle, fix_imports, encoding)\u001b[0m\n\u001b[1;32m    415\u001b[0m             \u001b[0mown_fid\u001b[0m \u001b[0;34m=\u001b[0m \u001b[0;32mFalse\u001b[0m\u001b[0;34m\u001b[0m\u001b[0;34m\u001b[0m\u001b[0m\n\u001b[1;32m    416\u001b[0m         \u001b[0;32melse\u001b[0m\u001b[0;34m:\u001b[0m\u001b[0;34m\u001b[0m\u001b[0;34m\u001b[0m\u001b[0m\n\u001b[0;32m--> 417\u001b[0;31m             \u001b[0mfid\u001b[0m \u001b[0;34m=\u001b[0m \u001b[0mstack\u001b[0m\u001b[0;34m.\u001b[0m\u001b[0menter_context\u001b[0m\u001b[0;34m(\u001b[0m\u001b[0mopen\u001b[0m\u001b[0;34m(\u001b[0m\u001b[0mos_fspath\u001b[0m\u001b[0;34m(\u001b[0m\u001b[0mfile\u001b[0m\u001b[0;34m)\u001b[0m\u001b[0;34m,\u001b[0m \u001b[0;34m\"rb\"\u001b[0m\u001b[0;34m)\u001b[0m\u001b[0;34m)\u001b[0m\u001b[0;34m\u001b[0m\u001b[0;34m\u001b[0m\u001b[0m\n\u001b[0m\u001b[1;32m    418\u001b[0m             \u001b[0mown_fid\u001b[0m \u001b[0;34m=\u001b[0m \u001b[0;32mTrue\u001b[0m\u001b[0;34m\u001b[0m\u001b[0;34m\u001b[0m\u001b[0m\n\u001b[1;32m    419\u001b[0m \u001b[0;34m\u001b[0m\u001b[0m\n",
      "\u001b[0;31mFileNotFoundError\u001b[0m: [Errno 2] No such file or directory: '../data/output/sociopatterns/workplace01/training_NoExp_697752728_0_5.npz'"
     ]
    }
   ],
   "source": [
    "df = pd.DataFrame()\n",
    "\n",
    "fold=0\n",
    "dataset=\"workplace01\"\n",
    "K_aff=5\n",
    "\n",
    "params = np.load(in_folder + dataset + \"/params.npz\")\n",
    "mu, Z = params[\"u\"], params[\"Z\"]\n",
    "data = read_data(in_folder + dataset + \"/\", \"data\")\n",
    "masks = np.load(in_folder + dataset +\"/mask.npz\")[\"mask\"]\n",
    "T = masks.shape[1]\n",
    "mask = masks[fold]\n",
    "\n",
    "\n",
    "'''\n",
    "    determine best seeds for each run\n",
    "'''\n",
    "best_score_noexp = -1e10\n",
    "seed_noexp = seeds[0]\n",
    "\n",
    "best_score_exp = -1e10\n",
    "seed_exp = seeds[0]\n",
    "\n",
    "for seed in seeds: \n",
    "    training_noexp = f\"training_NoExp_{seed}_{fold}_{K_aff}.npz\"  \n",
    "    score_noexp = np.load(out_folder + dataset + \"/\" + training_noexp)[\"losses\"][-1]\n",
    "    if score_noexp > best_score_noexp: \n",
    "        best_score_noexp = score_noexp\n",
    "        seed_noexp = seed\n",
    "\n",
    "    training_exp = f\"training_Exp_{seed}_{fold}_{K_aff}.npz\"\n",
    "    score_exp = np.load(out_folder + dataset + \"/\" + training_exp)[\"losses\"][-1]\n",
    "    if score_exp > best_score_exp: \n",
    "        best_score_exp = score_exp\n",
    "        seed_exp = seed        \n",
    "\n",
    "training_exp = f\"training_Exp_{seed_exp}_{fold}_{K_aff}.npz\"\n",
    "print(training_exp)\n",
    "losses = np.load(out_folder + dataset + \"/\" + training_exp)\n",
    "print(out_folder + dataset + \"/\" + training_exp)\n",
    "\n",
    "plot_losses(losses[\"losses\"])\n",
    "plot_losses(losses[\"theta_errors\"])\n",
    "plot_losses(losses[\"exp_errors\"])"
   ]
  },
  {
   "cell_type": "code",
   "execution_count": null,
   "id": "6af60654-918d-423d-bd88-9ab54f00c240",
   "metadata": {},
   "outputs": [],
   "source": [
    "params = np.load(in_folder + dataset + \"/params.npz\")\n",
    "mu, Z = params[\"u\"], params[\"Z\"]\n",
    "data = read_data(in_folder + dataset + \"/\", \"data\")\n",
    "masks = np.load(in_folder + dataset +\"/mask.npz\")[\"mask\"]\n",
    "T = masks.shape[1]\n",
    "mask = masks[fold]\n",
    "\n",
    "'''\n",
    "    evaluate and store NoExp results\n",
    "'''            \n",
    "file_noexp = f\"params_NoExp_{seed_noexp}_{fold}_{K_aff}.npz\"\n",
    "params_noexp = np.load(out_folder + dataset + \"/\" + file_noexp)\n",
    "u_noexp, v_noexp, w_noexp = params_noexp[\"u\"], params_noexp[\"v\"], params_noexp[\"w\"]\n",
    "lam_noexp = u_noexp @ w_noexp @ v_noexp.T\n",
    "lam_noexp = np.array([lam_noexp]*T)\n",
    "AUC_A = calculate_AUC(data>0, lam_noexp, mask=mask)\n",
    "df = df.append({\"dataset\": dataset, \"Exp\": 0, \"fold\": fold, \"K_aff\": K_aff, \"seed\": seed_noexp, \"AUC_A\": AUC_A}, ignore_index=True)\n",
    "print(f\"NoExp, fold={fold}: \", f\"K_aff={K_aff}\", \"AUC_A=\", AUC_A)     \n",
    "\n",
    "\n",
    "'''\n",
    "    evaluate and store Exp results\n",
    "'''\n",
    "file_exp = f\"params_Exp_{seed_exp}_{fold}_{K_aff}.npz\"\n",
    "params_exp = np.load(out_folder + dataset + \"/\" + file_exp)\n",
    "u_exp, v_exp, w_exp, mu_exp, Q = params_exp[\"u\"], params_exp[\"v\"], params_exp[\"w\"], params_exp[\"mu\"], params_exp[\"Q\"]\n",
    "lam_exp = u_exp @ w_exp @ v_exp.T\n",
    "lam_exp_0 = np.array([lam_exp]*T)\n",
    "lam_exp_1 = lam_exp_0 * Q\n",
    "AUC_A = calculate_AUC(data>0, lam_exp_1, mask=mask)\n",
    "acc_mu = evaluate_memberships(mu, mu_exp, mu, mu_exp)[0]\n",
    "AUC_Q = calculate_AUC(Z, Q)\n",
    "df = df.append({\"dataset\": dataset, \"Exp\": 1, \"fold\": fold, \"seed\": seed_exp, \"K_aff\": K_aff, \"AUC_A\": AUC_A, \"acc_mu\": acc_mu, \"AUC_Q\": AUC_Q}, ignore_index=True)\n",
    "print(f\"Exp, fold={fold}, K_aff={K_aff}: \", \"AUC_A: \", AUC_A, \"acc_mu=\", acc_mu, f\"AUC_Q={AUC_Q}\")\n",
    "\n",
    "\n",
    "\n",
    "'''\n",
    "    visualize performance for each dataset and fold 0\n",
    "'''\n",
    "print_bold(f\"K_aff: {K_aff}\")\n",
    "fig, axs = plt.subplots(2,3,figsize=(22,14))\n",
    "plt.subplots_adjust(left=None, bottom=None, right=None, top=None, wspace=0.2, hspace=None)\n",
    "\n",
    "im = axs[0][0].imshow(np.log(data.sum(axis=0)+1))\n",
    "#axs[0][0].xaxis.tick_top() \n",
    "axs[0][0].set_title(\"\\\\textbf{A}\")  \n",
    "\n",
    "axs[0][1].imshow((np.log(lam_exp_0.sum(axis=0)+1)))\n",
    "#axs[0][1].xaxis.tick_top()\n",
    "axs[0][1].set_title(\"$\\log(\\lambda_{Exp}^0)$\", pad=20)\n",
    "\n",
    "axs[0][2].imshow(np.log(lam_exp_1.sum(axis=0)+1))\n",
    "#axs[0][2].xaxis.tick_top()\n",
    "axs[0][2].set_title(\"$\\log(\\lambda_{Exp}^1)$\", pad=20)\n",
    "\n",
    "\n",
    "axs[1][0].imshow(Z.sum(axis=0))\n",
    "#axs[1][0].xaxis.tick_top()\n",
    "axs[1][0].set_title(\"\\\\textbf{Z}\")\n",
    "\n",
    "axs[1][1].imshow(np.log(Q.sum(axis=0)+1))\n",
    "#axs[1][1].xaxis.tick_top()\n",
    "axs[1][1].set_title(\"$\\log(Q)$\", pad=20)\n",
    "\n",
    "axs[1][2].imshow(np.log(np.log(mu_exp@mu_exp.T +1)+1))\n",
    "#axs[1][2].xaxis.tick_top()\n",
    "axs[1][2].set_title(\"$\\log(\\mu\\cdot\\mu^T)$\", pad=20)\n",
    "\n",
    "plt.setp(axs, yticks=plt.xticks()[0][1:-1])\n",
    "\n",
    "cbar = fig.colorbar(im, ax=axs.ravel().tolist(), shrink=0.925)\n",
    "#cbar.set_ticks(np.arange(0, 1.1, 0.5))\n",
    "#cbar.set_ticklabels(['low', 'medium', 'high'])\n",
    "\n",
    "#plt.savefig(f\"figures/{dataset}.png\", bbox_inches=\"tight\", dpi=300)\n",
    "plt.show()"
   ]
  },
  {
   "cell_type": "code",
   "execution_count": null,
   "id": "54c32bb2-ac3a-47a8-9d4d-b9836a4e90fb",
   "metadata": {},
   "outputs": [],
   "source": [
    "df = pd.DataFrame()\n",
    "\n",
    "for dataset in datasets: \n",
    "    if dataset != \"workplace01\": \n",
    "        continue\n",
    "    print_bold(dataset)\n",
    "    dataset_files = os.listdir(out_folder + dataset)\n",
    "    params = np.load(in_folder + dataset + \"/params.npz\")\n",
    "    u, Z = params[\"u\"], params[\"Z\"]\n",
    "    K_exp = u.shape[1]\n",
    "    data = read_data(in_folder + dataset + \"/\", \"data\")\n",
    "    masks = np.load(in_folder + dataset +\"/mask.npz\")[\"mask\"]\n",
    "    T = masks.shape[1]\n",
    "    \n",
    "    for fold in folds: \n",
    "        mask = masks[fold]\n",
    "        for K_aff in K_affs: \n",
    "            acc_u, acc_v = 0, 0\n",
    "            '''\n",
    "                determine best seeds for each run\n",
    "            '''\n",
    "            best_score_noexp = -1e10\n",
    "            seed_noexp = seeds[0]\n",
    "\n",
    "            best_score_exp = -1e10\n",
    "            seed_exp = seeds[0]\n",
    "\n",
    "            for seed in seeds: \n",
    "                training_noexp = f\"training_NoExp_{seed}_{fold}_{K_aff}.npz\"  \n",
    "                score_noexp = np.load(out_folder + dataset + \"/\" + training_noexp)[\"losses\"][-1]\n",
    "                if score_noexp > best_score_noexp: \n",
    "                    best_score_noexp = score_noexp\n",
    "                    seed_noexp = seed\n",
    "\n",
    "                training_exp = f\"training_Exp_{seed}_{fold}_{K_aff}.npz\"\n",
    "                if training_exp in dataset_files: \n",
    "                    score_exp = np.load(out_folder + dataset + \"/\" + training_exp)[\"losses\"][-1]\n",
    "                    if score_exp > best_score_exp: \n",
    "                        best_score_exp = score_exp\n",
    "                        seed_exp = seed        \n",
    "\n",
    "\n",
    "            '''\n",
    "                evaluate and store NoExp results\n",
    "            '''            \n",
    "            file_noexp = f\"params_NoExp_{seed_noexp}_{fold}_{K_aff}.npz\"\n",
    "            params_noexp = np.load(out_folder + dataset + \"/\" + file_noexp)\n",
    "            u_noexp, v_noexp, w_noexp = params_noexp[\"u\"], params_noexp[\"v\"], params_noexp[\"w\"]\n",
    "            if K_exp == K_aff: \n",
    "                acc_u, acc_v, _, _ = evaluate_memberships(u, u_noexp, u, v_noexp)\n",
    "            lam_noexp = u_noexp @ w_noexp @ v_noexp.T\n",
    "            lam_noexp = np.array([lam_noexp]*T)\n",
    "            AUC_A = calculate_AUC(data>0, lam_noexp, mask=mask)\n",
    "            df = df.append({\"dataset\": dataset, \"Exp\": 0, \"fold\": fold, \"K_aff\": K_aff, \"seed\": seed_noexp, \"acc_u\": (acc_u+acc_v)/2, \"AUC_A\": AUC_A}, ignore_index=True)\n",
    "            print(f\"NoExp, fold={fold}: \", f\"K_aff={K_aff}\", \"acc_u= \", (acc_u+acc_v)/2, \"AUC_A=\", AUC_A)     \n",
    "\n",
    "\n",
    "            '''\n",
    "                evaluate and store Exp results\n",
    "            '''\n",
    "            file_exp = f\"params_Exp_{seed_exp}_{fold}_{K_aff}.npz\"\n",
    "            params_exp = np.load(out_folder + dataset + \"/\" + file_exp)\n",
    "            u_exp, v_exp, w_exp, mu_exp, Q = params_exp[\"u\"], params_exp[\"v\"], params_exp[\"w\"], params_exp[\"mu\"], params_exp[\"Q\"]\n",
    "            lam_exp = u_exp @ w_exp @ v_exp.T\n",
    "            lam_exp_0 = np.array([lam_exp]*T)\n",
    "            lam_exp_1 = lam_exp_0 * Q\n",
    "            AUC_A = calculate_AUC(data>0, lam_exp_1, mask= mask)\n",
    "            acc_mu = evaluate_memberships(u, mu_exp, u, mu_exp)[0]\n",
    "            if K_exp == K_aff: \n",
    "                acc_u, acc_v, _, _ = evaluate_memberships(u, u_exp, u, v_exp)\n",
    "            AUC_Q = calculate_AUC(Z, Q)\n",
    "            df = df.append({\"dataset\": dataset, \"Exp\": 1, \"fold\": fold, \"seed\": seed_exp, \"K_aff\": K_aff, \"AUC_A\": AUC_A, \"acc_u\": (acc_u+acc_v)/2, \"acc_mu\": acc_mu, \"AUC_Q\": AUC_Q}, ignore_index=True)\n",
    "            print(f\"Exp, fold={fold}, K_aff={K_aff}: \", f\"AUC_A={AUC_A}\", f\"acc_u={(acc_u+acc_v)/2} \", \"acc_mu=\", acc_mu, f\"AUC_Q={AUC_Q}\")\n",
    "       \n",
    "    \n",
    "    \n",
    "            '''\n",
    "                visualize performance for each dataset and fold 0\n",
    "            '''\n",
    "            if fold == 0:\n",
    "                print_bold(f\"K_aff: {K_aff}\")\n",
    "                fig, axs = plt.subplots(2,3,figsize=(22,14))\n",
    "                plt.subplots_adjust(left=None, bottom=None, right=None, top=None, wspace=0.2, hspace=None)\n",
    "                \n",
    "                im = axs[0][0].imshow(np.log((data*mask).sum(axis=0)+1))\n",
    "                #axs[0][0].xaxis.tick_top() \n",
    "                axs[0][0].set_title(\"\\\\textbf{A}\")  \n",
    "\n",
    "                axs[0][1].imshow((np.log((lam_noexp*mask).sum(axis=0)+1)))\n",
    "                #axs[0][1].xaxis.tick_top()\n",
    "                axs[0][1].set_title(\"$\\log(\\lambda_{NoExp})$\", pad=20)\n",
    "\n",
    "                axs[0][2].imshow(np.log((lam_exp_1*mask).sum(axis=0)+1))\n",
    "                #axs[0][2].xaxis.tick_top()\n",
    "                axs[0][2].set_title(\"$\\log(\\lambda_{Exp})$\", pad=20)\n",
    "\n",
    "\n",
    "                axs[1][0].imshow(Z.sum(axis=0))\n",
    "                #axs[1][0].xaxis.tick_top()\n",
    "                axs[1][0].set_title(\"\\\\textbf{Z}\")\n",
    "\n",
    "                axs[1][1].imshow(np.log(Q.sum(axis=0)+1))\n",
    "                #axs[1][1].xaxis.tick_top()\n",
    "                axs[1][1].set_title(\"$\\log(Q)$\", pad=20)\n",
    "\n",
    "                axs[1][2].imshow(np.log(mu_exp@mu_exp.T +1))\n",
    "                #axs[1][2].xaxis.tick_top()\n",
    "                axs[1][2].set_title(\"$\\log(\\mu\\cdot\\mu^T)$\", pad=20)\n",
    "\n",
    "                plt.setp(axs, yticks=plt.xticks()[0][1:-1])\n",
    "\n",
    "                cbar = fig.colorbar(im, ax=axs.ravel().tolist(), shrink=0.925)\n",
    "                #cbar.set_ticks(np.arange(0, 1.1, 0.5))\n",
    "                #cbar.set_ticklabels(['low', 'medium', 'high'])\n",
    "\n",
    "                #plt.savefig(f\"figures/{dataset}.png\", bbox_inches=\"tight\", dpi=300)\n",
    "                plt.show()\n",
    "\n",
    "        "
   ]
  },
  {
   "cell_type": "markdown",
   "id": "c12043a8-3379-4753-8d5c-f09a91906407",
   "metadata": {},
   "source": [
    "## Analyzing AUC Q"
   ]
  },
  {
   "cell_type": "code",
   "execution_count": null,
   "id": "5430fb67-f8be-41be-b2a4-613aeed4fa0b",
   "metadata": {},
   "outputs": [],
   "source": [
    "dataset_titles = {\"highschool\": \"Highschool\", \"primary_school\": \"Primary School\", \"hospital\": \"Hospital\", \"workplace01\": \"Workplace01\", \"workplace02\": \"Workplace02\"}"
   ]
  },
  {
   "cell_type": "code",
   "execution_count": null,
   "id": "b45cc07e-0514-4f2d-80c6-128a83e4ba30",
   "metadata": {},
   "outputs": [],
   "source": [
    "Q_stats = pd.DataFrame()\n",
    "for dataset in datasets: \n",
    "    vals = df.loc[(df[\"dataset\"] == dataset) & (df[\"Exp\"]==1)][\"AUC_Q\"].to_numpy()\n",
    "    print(vals)\n",
    "    mean, var = mean_confidence_interval(vals)\n",
    "    Q_stats = Q_stats.append({\"\": dataset_titles[dataset], \"Mean\":np.round(mean, 4), \"Variance\":np.round(var, 4)}, ignore_index=True) "
   ]
  },
  {
   "cell_type": "markdown",
   "id": "e93d2d2d-ddc2-4f0a-8c92-d18384e64df3",
   "metadata": {},
   "source": [
    "## Scatter Plot for the link prediction"
   ]
  },
  {
   "cell_type": "code",
   "execution_count": null,
   "id": "d5fa477d-dbab-42ae-a01f-bd4186047988",
   "metadata": {},
   "outputs": [],
   "source": [
    "print(datasets)\n",
    "labels = [\"Workplace01\", \"Highschool\", \"Hospital\", \"PrimarySchool\", \"Workplace02\"]\n",
    "markers = [\"*\", \"d\", \"v\", \"+\", \"p\"]"
   ]
  },
  {
   "cell_type": "code",
   "execution_count": null,
   "id": "3ea12537-f512-443e-98fb-b15ec66ef1c4",
   "metadata": {},
   "outputs": [],
   "source": [
    "fig, ax = plt.subplots(1,1,figsize=(10,10))\n",
    "#plt.title(\"$AUC(A, \\lambda_{NoExp})\\ vs.\\ AUC(A, \\lambda_{Exp})$\", pad=15)\n",
    "#plt.title(\"Link Prediction\")\n",
    "ax.set_xlabel(\"NoExp\")\n",
    "ax.set_ylabel(\"Exp\")\n",
    "\n",
    "\n",
    "\n",
    "for i,dataset in enumerate(datasets): \n",
    "    if dataset != \"workplace01\":\n",
    "        continue\n",
    "    for fold in folds: \n",
    "        x = df.loc[(df[\"dataset\"] == dataset) & (df[\"fold\"] == fold) & (df[\"Exp\"] == 0)][\"AUC_A\"].to_numpy()[0]\n",
    "        y = df.loc[(df[\"dataset\"] == dataset) & (df[\"fold\"] == fold) & (df[\"Exp\"] == 1)][\"AUC_A\"].to_numpy()[0]\n",
    "        plt.scatter(x,y,color=\"green\" if y>x else \"red\", marker=markers[i], s=100, label=labels[i] if fold==0 else \"\")\n",
    "ax.plot(np.arange(0.3,0.95,0.01), np.arange(0.3,0.95,0.01), color=\"grey\", ls=(0, (5, 10)),lw=2)\n",
    "ax.margins(x=0,y=0)\n",
    "plt.legend(fontsize=\"xx-large\")\n",
    "#plt.savefig(\"figures/link_prediction.png\", bbox_inches=\"tight\", dpi=300)\n",
    "plt.show()"
   ]
  },
  {
   "cell_type": "markdown",
   "id": "d48359a0-3b9c-4bfb-ba20-a3968b80cc51",
   "metadata": {},
   "source": [
    "## Membership Predictions"
   ]
  },
  {
   "cell_type": "code",
   "execution_count": null,
   "id": "1f142541-cf12-4566-b667-92ad786c4a68",
   "metadata": {},
   "outputs": [],
   "source": [
    "fig, ax = plt.subplots(1,1,figsize=(10,10))\n",
    "#plt.title(\"Membership Predictions\", pad=15)\n",
    "ax.set_xlabel(\"NoExp\")\n",
    "ax.set_ylabel(\"Exp\")\n",
    "\n",
    "ax.set_xlim([0.5,1])\n",
    "ax.set_ylim([0.45,1])\n",
    "\n",
    "for i,dataset in enumerate(datasets): \n",
    "    for fold in folds: \n",
    "        x = df.loc[(df[\"dataset\"] == dataset) & (df[\"fold\"] == fold) & (df[\"Exp\"] == 0)][\"acc_u\"].to_numpy()[0]\n",
    "        y = df.loc[(df[\"dataset\"] == dataset) & (df[\"fold\"] == fold) & (df[\"Exp\"] == 1)][\"acc_mu\"].to_numpy()[0]\n",
    "        plt.scatter(x,y,color=\"green\" if y>x else \"red\", marker=markers[i], s=100, label=labels[i] if fold==0 else \"\")\n",
    "ax.plot(np.arange(0.5, 1, 0.01), np.arange(0.5, 1,0.01), color=\"grey\", ls=(0, (5, 10)),lw=2)\n",
    "ax.margins(x=0,y=0)\n",
    "plt.legend(fontsize=\"xx-large\")\n",
    "plt.savefig(\"figures/memberships.png\", bbox_inches=\"tight\", dpi=300)\n",
    "plt.show()"
   ]
  },
  {
   "cell_type": "code",
   "execution_count": null,
   "id": "240c7690-2433-43ea-aa6e-76c9f2e845d5",
   "metadata": {},
   "outputs": [],
   "source": [
    "df.loc[(df[\"Exp\"] == 1)][\"AUC_Q\"].mean()"
   ]
  },
  {
   "cell_type": "code",
   "execution_count": null,
   "id": "3dd7225c-c074-4dc1-ad1c-7b2784d4efd9",
   "metadata": {},
   "outputs": [],
   "source": [
    "df.loc[(df[\"Exp\"] == 1)][\"AUC_A\"].mean()"
   ]
  },
  {
   "cell_type": "markdown",
   "id": "d9a18c6b-41f2-430a-a67d-edcd6c38c6eb",
   "metadata": {},
   "source": [
    "# Membership Predictions $u$"
   ]
  },
  {
   "cell_type": "code",
   "execution_count": null,
   "id": "83cd73e9-c00f-45c1-ac5d-2b8a48b83f9a",
   "metadata": {},
   "outputs": [],
   "source": [
    "fig, ax = plt.subplots(1,1,figsize=(10,10))\n",
    "plt.title(\"Membership Predictions\", pad=15)\n",
    "ax.set_xlabel(\"NoExp\")\n",
    "ax.set_ylabel(\"Exp\")\n",
    "\n",
    "for i,dataset in enumerate(datasets): \n",
    "    for fold in folds: \n",
    "        x = df.loc[(df[\"dataset\"] == dataset) & (df[\"fold\"] == fold) & (df[\"Exp\"] == 0)][\"acc_u\"].to_numpy()[0]\n",
    "        y = df.loc[(df[\"dataset\"] == dataset) & (df[\"fold\"] == fold) & (df[\"Exp\"] == 1)][\"acc_u\"].to_numpy()[0]\n",
    "        plt.scatter(x,y,color=\"green\" if y>x else \"red\", marker=markers[i], label=labels[i] if fold==0 else \"\")\n",
    "ax.plot(np.arange(0.5, 1, 0.01), np.arange(0.5, 1,0.01), color=\"red\", ls='-.',lw=0.5)\n",
    "plt.legend()\n",
    "#plt.savefig(\"figures/memberships_None.svg\")\n",
    "plt.show()"
   ]
  },
  {
   "cell_type": "code",
   "execution_count": null,
   "id": "b5de226e-3bfb-48c7-9e96-a80c630ad0a5",
   "metadata": {},
   "outputs": [],
   "source": []
  },
  {
   "cell_type": "code",
   "execution_count": null,
   "id": "4f53bb70-3421-48a5-af75-e62a70c5498e",
   "metadata": {},
   "outputs": [],
   "source": []
  }
 ],
 "metadata": {
  "kernelspec": {
   "display_name": "Python 3 (ipykernel)",
   "language": "python",
   "name": "python3"
  },
  "language_info": {
   "codemirror_mode": {
    "name": "ipython",
    "version": 3
   },
   "file_extension": ".py",
   "mimetype": "text/x-python",
   "name": "python",
   "nbconvert_exporter": "python",
   "pygments_lexer": "ipython3",
   "version": "3.9.7"
  }
 },
 "nbformat": 4,
 "nbformat_minor": 5
}
