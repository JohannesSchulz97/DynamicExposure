{
 "cells": [
  {
   "cell_type": "code",
   "execution_count": 27,
   "id": "b963104c-1517-4579-b92e-7fa638166cf8",
   "metadata": {},
   "outputs": [
    {
     "name": "stdout",
     "output_type": "stream",
     "text": [
      "The autoreload extension is already loaded. To reload it, use:\n",
      "  %reload_ext autoreload\n"
     ]
    }
   ],
   "source": [
    "from network import *\n",
    "import sys\n",
    "sys.path.append(\"../../project/src/markov_exposure/\")\n",
    "from inference import *\n",
    "import numpy as np\n",
    "import matplotlib.pyplot as plt\n",
    "%load_ext autoreload\n",
    "%autoreload 2"
   ]
  },
  {
   "cell_type": "code",
   "execution_count": 28,
   "id": "963788f8-4e5f-41a9-a99b-6e84cf8ecadb",
   "metadata": {},
   "outputs": [],
   "source": [
    "T,N = 100,50\n",
    "symmetric=True\n",
    "\n",
    "network = Network(N=N, dirichlet=0.5)\n",
    "\n",
    "A0 = network.generate_A0(T=T, avg_degree=100, symmetric=symmetric)\n",
    "for t in range(T): \n",
    "    assert(np.all(A0[t] == A0[t].T))\n",
    "    \n",
    "A1 = network.apply_exposure(A0, K_exp=3)"
   ]
  },
  {
   "cell_type": "code",
   "execution_count": 29,
   "id": "6fd61daa-8a86-42f2-af91-948b68636c10",
   "metadata": {},
   "outputs": [],
   "source": [
    "mu, Z, u, w = network.get_mu(), network.get_Z(), network.get_u(), network.get_w()"
   ]
  },
  {
   "cell_type": "code",
   "execution_count": 55,
   "id": "34f62d84-175c-49b8-a81f-d317d37d49e6",
   "metadata": {},
   "outputs": [
    {
     "data": {
      "text/plain": [
       "<matplotlib.image.AxesImage at 0x7fe62f7f9a60>"
      ]
     },
     "execution_count": 55,
     "metadata": {},
     "output_type": "execute_result"
    },
    {
     "data": {
      "image/png": "[encoded data removed]",
      "text/plain": [
       "<Figure size 432x288 with 1 Axes>"
      ]
     },
     "metadata": {
      "needs_background": "light"
     },
     "output_type": "display_data"
    }
   ],
   "source": [
    "plt.imshow(A0.sum(axis=0))"
   ]
  },
  {
   "cell_type": "code",
   "execution_count": 57,
   "id": "b478f7b1-5fc7-4efb-bc69-8c838aa165fd",
   "metadata": {},
   "outputs": [],
   "source": [
    "seeds = [697752728, 4190089612, 1176914559, 3077924848, 315917623, 2544020234, 1077758578, 4071300106, 534591752, 3553386411]"
   ]
  },
  {
   "cell_type": "markdown",
   "id": "d00c5172-a9f0-4357-b78c-a8a3499d5f5d",
   "metadata": {},
   "source": [
    "## NoExp Inference asymmetric"
   ]
  },
  {
   "cell_type": "code",
   "execution_count": 69,
   "id": "dff27f00-30ae-491d-b13d-64114a061c87",
   "metadata": {},
   "outputs": [
    {
     "name": "stdout",
     "output_type": "stream",
     "text": [
      "running NoExp inference for 20000 iterations: \n",
      "\n",
      "No exposure inference with T=100, N=50, K=3 and 10001 iterations took 13.635909098999946 seconds\n",
      "\n",
      "\u001b[1mseed=697752728: acc_v=0.9969220172051599, acc_v=0.9965204793545843\u001b[0m\n",
      "running NoExp inference for 20000 iterations: \n",
      "\n",
      "No exposure inference with T=100, N=50, K=3 and 10001 iterations took 13.59947352600011 seconds\n",
      "\n",
      "\u001b[1mseed=4190089612: acc_v=0.9988542967849058, acc_v=0.9923212821212867\u001b[0m\n",
      "running NoExp inference for 20000 iterations: \n",
      "\n",
      "No exposure inference with T=100, N=50, K=3 and 10001 iterations took 13.913367649000065 seconds\n",
      "\n",
      "\u001b[1mseed=1176914559: acc_v=0.9965459609168958, acc_v=0.9976506296090514\u001b[0m\n",
      "running NoExp inference for 20000 iterations: \n",
      "\n",
      "No exposure inference with T=100, N=50, K=3 and 10001 iterations took 13.929862813 seconds\n",
      "\n",
      "\u001b[1mseed=3077924848: acc_v=0.991811094500879, acc_v=0.9962259650096342\u001b[0m\n",
      "running NoExp inference for 20000 iterations: \n",
      "\n",
      "No exposure inference with T=100, N=50, K=3 and 10001 iterations took 14.035182229000384 seconds\n",
      "\n",
      "\u001b[1mseed=315917623: acc_v=0.9992852612621949, acc_v=0.9974842887374862\u001b[0m\n",
      "running NoExp inference for 20000 iterations: \n",
      "\n",
      "No exposure inference with T=100, N=50, K=3 and 10001 iterations took 13.871916314000373 seconds\n",
      "\n",
      "\u001b[1mseed=2544020234: acc_v=0.9966511698809623, acc_v=0.9958777778734428\u001b[0m\n",
      "running NoExp inference for 20000 iterations: \n",
      "\n",
      "No exposure inference with T=100, N=50, K=3 and 10001 iterations took 13.821364591999554 seconds\n",
      "\n",
      "\u001b[1mseed=1077758578: acc_v=0.9963779416759797, acc_v=0.9938384267750386\u001b[0m\n",
      "running NoExp inference for 20000 iterations: \n",
      "\n",
      "No exposure inference with T=100, N=50, K=3 and 10001 iterations took 13.654538990999754 seconds\n",
      "\n",
      "\u001b[1mseed=4071300106: acc_v=0.9939898146048469, acc_v=0.9992944965018066\u001b[0m\n",
      "running NoExp inference for 20000 iterations: \n",
      "\n",
      "No exposure inference with T=100, N=50, K=3 and 10001 iterations took 13.67988137500015 seconds\n",
      "\n",
      "\u001b[1mseed=534591752: acc_v=0.9982928960468438, acc_v=0.9932947926859881\u001b[0m\n",
      "running NoExp inference for 20000 iterations: \n",
      "\n",
      "No exposure inference with T=100, N=50, K=3 and 10001 iterations took 13.950810465000359 seconds\n",
      "\n",
      "\u001b[1mseed=3553386411: acc_v=0.9989540264397061, acc_v=0.9918078559512934\u001b[0m\n"
     ]
    }
   ],
   "source": [
    "for seed in seeds: \n",
    "    losses_noexp, theta_noexp = fit(A0, 3, 3, seed=seed, symmetric=False, exp=False)\n",
    "    u_noexp,v_noexp,w_noexp = theta_noexp\n",
    "    acc_u, acc_v = evaluate_memberships(u, u_noexp, u, v_noexp, verbose=False)[0:2]\n",
    "    print_bold(f\"seed={seed}: acc_v={acc_u}, acc_v={acc_v}\")"
   ]
  },
  {
   "cell_type": "markdown",
   "id": "3e2220cb-2889-4c92-a798-84f4efb5f8c5",
   "metadata": {},
   "source": [
    "## NoExp Inference symmetric"
   ]
  },
  {
   "cell_type": "code",
   "execution_count": 76,
   "id": "973b4f5d-1821-4bc3-bfc4-a084ae17f41c",
   "metadata": {},
   "outputs": [
    {
     "name": "stdout",
     "output_type": "stream",
     "text": [
      "running NoExp inference for 20000 iterations: \n",
      "\n",
      "No exposure inference with T=100, N=50, K=3 and 10001 iterations took 13.889576216999558 seconds\n",
      "\n",
      "\u001b[1mseed=697752728: acc_u=0.6989638320946644, acc_v=0.6989638320946644\u001b[0m\n",
      "running NoExp inference for 20000 iterations: \n",
      "\n",
      "No exposure inference with T=100, N=50, K=3 and 10001 iterations took 14.400128413000857 seconds\n",
      "\n",
      "\u001b[1mseed=4190089612: acc_u=0.891380367232303, acc_v=0.891380367232303\u001b[0m\n",
      "running NoExp inference for 20000 iterations: \n",
      "\n",
      "No exposure inference with T=100, N=50, K=3 and 10001 iterations took 14.153018857999996 seconds\n",
      "\n",
      "\u001b[1mseed=1176914559: acc_u=0.6852735648357275, acc_v=0.6852735648357275\u001b[0m\n",
      "running NoExp inference for 20000 iterations: \n",
      "\n",
      "No exposure inference with T=100, N=50, K=3 and 10001 iterations took 14.470002301000932 seconds\n",
      "\n",
      "\u001b[1mseed=3077924848: acc_u=0.6867495463018863, acc_v=0.6867495463018863\u001b[0m\n",
      "running NoExp inference for 20000 iterations: \n",
      "\n",
      "No exposure inference with T=100, N=50, K=3 and 10001 iterations took 14.493940713000484 seconds\n",
      "\n",
      "\u001b[1mseed=315917623: acc_u=0.6863344245260896, acc_v=0.6863344245260896\u001b[0m\n",
      "running NoExp inference for 20000 iterations: \n",
      "\n",
      "Convergence Criterium satisfied\n",
      "No exposure inference with T=100, N=50, K=3 and 9680 iterations took 14.304835185999764 seconds\n",
      "\n",
      "\u001b[1mseed=2544020234: acc_u=0.6880329000558973, acc_v=0.6880329000558973\u001b[0m\n",
      "running NoExp inference for 20000 iterations: \n",
      "\n",
      "No exposure inference with T=100, N=50, K=3 and 10001 iterations took 14.22396779599876 seconds\n",
      "\n",
      "\u001b[1mseed=1077758578: acc_u=0.7005982887519123, acc_v=0.7005982887519123\u001b[0m\n",
      "running NoExp inference for 20000 iterations: \n",
      "\n",
      "No exposure inference with T=100, N=50, K=3 and 10001 iterations took 14.59433226100009 seconds\n",
      "\n",
      "\u001b[1mseed=4071300106: acc_u=0.7002216966608004, acc_v=0.7002216966608004\u001b[0m\n",
      "running NoExp inference for 20000 iterations: \n",
      "\n",
      "No exposure inference with T=100, N=50, K=3 and 10001 iterations took 14.23245949899865 seconds\n",
      "\n",
      "\u001b[1mseed=534591752: acc_u=0.6761289026465747, acc_v=0.6761289026465747\u001b[0m\n",
      "running NoExp inference for 20000 iterations: \n",
      "\n",
      "No exposure inference with T=100, N=50, K=3 and 10001 iterations took 14.957854674001283 seconds\n",
      "\n",
      "\u001b[1mseed=3553386411: acc_u=0.877250095167301, acc_v=0.877250095167301\u001b[0m\n"
     ]
    }
   ],
   "source": [
    "for seed in seeds: \n",
    "    losses_noexp, theta_noexp = fit(A0, 3,3, seed=seed, symmetric=True, exp=False)\n",
    "    u_noexp,v_noexp,w_noexp = theta_noexp\n",
    "    acc_u, acc_v = evaluate_memberships(u, u_noexp, u, v_noexp, verbose=False)[0:2]\n",
    "    print_bold(f\"seed={seed}: acc_u={acc_u}, acc_v={acc_v}\")"
   ]
  },
  {
   "cell_type": "code",
   "execution_count": null,
   "id": "e5e6e5b2-dc9e-4577-82a9-751fa0155217",
   "metadata": {},
   "outputs": [],
   "source": []
  }
 ],
 "metadata": {
  "kernelspec": {
   "display_name": "Python 3 (ipykernel)",
   "language": "python",
   "name": "python3"
  },
  "language_info": {
   "codemirror_mode": {
    "name": "ipython",
    "version": 3
   },
   "file_extension": ".py",
   "mimetype": "text/x-python",
   "name": "python",
   "nbconvert_exporter": "python",
   "pygments_lexer": "ipython3",
   "version": "3.9.7"
  }
 },
 "nbformat": 4,
 "nbformat_minor": 5
}
