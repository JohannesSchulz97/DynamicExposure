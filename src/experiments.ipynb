{
 "cells": [
  {
   "cell_type": "code",
   "execution_count": 1,
   "id": "2e34fc8a-c19b-495f-97eb-da7fcc61a7e2",
   "metadata": {},
   "outputs": [],
   "source": [
    "from network import *\n",
    "from inference import *\n",
    "import numpy as np\n",
    "import matplotlib.pyplot as plt"
   ]
  },
  {
   "cell_type": "code",
   "execution_count": 2,
   "id": "1cf0d0c2-c5e6-4d24-a82b-dff66fe028d4",
   "metadata": {},
   "outputs": [],
   "source": [
    "network = Network(N=30)"
   ]
  },
  {
   "cell_type": "code",
   "execution_count": 3,
   "id": "ba4edb9e-84ab-49b0-b34f-0e6bbfa8f521",
   "metadata": {},
   "outputs": [],
   "source": [
    "A0 = network.generate_A0(T=1, avg_degree=20)\n",
    "A1 = network.apply_exposure(A0, K_exp=3)"
   ]
  },
  {
   "cell_type": "code",
   "execution_count": 4,
   "id": "7de1b234-d9ee-4e16-b3ba-d2995bed404c",
   "metadata": {},
   "outputs": [],
   "source": [
    "mu, Z, u, v, w = network.get_mu(), network.get_Z(), network.get_u(), network.get_v(), network.get_w()"
   ]
  },
  {
   "cell_type": "markdown",
   "id": "0f6d8218-4d54-4ca4-8b19-6491a028e62c",
   "metadata": {},
   "source": [
    "## Testing Exposure Inference"
   ]
  },
  {
   "cell_type": "code",
   "execution_count": 5,
   "id": "5eac1a21-2755-475a-8d08-a7121854c717",
   "metadata": {},
   "outputs": [
    {
     "name": "stdout",
     "output_type": "stream",
     "text": [
      "updating Q\n",
      "running Exp inference for 1500 iterations: \n",
      "\n",
      "updating Q\n",
      "updating Q\n",
      "updating Q\n",
      "updating Q\n",
      "updating Q\n",
      "updating Q\n",
      "updating Q\n",
      "updating Q\n",
      "updating Q\n",
      "updating Q\n",
      "updating Q\n",
      "updating Q\n",
      "updating Q\n",
      "updating Q\n",
      "updating Q\n",
      "updating Q\n",
      "updating Q\n",
      "updating Q\n",
      "updating Q\n",
      "updating Q\n",
      "updating Q\n",
      "updating Q\n",
      "updating Q\n",
      "updating Q\n",
      "updating Q\n",
      "updating Q\n",
      "updating Q\n",
      "updating Q\n",
      "updating Q\n",
      "updating Q\n",
      "updating Q\n",
      "updating Q\n",
      "updating Q\n",
      "updating Q\n",
      "updating Q\n",
      "updating Q\n",
      "updating Q\n",
      "updating Q\n",
      "updating Q\n",
      "updating Q\n",
      "updating Q\n",
      "updating Q\n",
      "updating Q\n",
      "updating Q\n",
      "updating Q\n",
      "updating Q\n",
      "updating Q\n",
      "updating Q\n",
      "updating Q\n",
      "updating Q\n",
      "updating Q\n",
      "updating Q\n",
      "updating Q\n",
      "updating Q\n",
      "updating Q\n",
      "updating Q\n",
      "updating Q\n",
      "updating Q\n",
      "updating Q\n",
      "updating Q\n",
      "updating Q\n",
      "updating Q\n",
      "updating Q\n",
      "updating Q\n",
      "updating Q\n",
      "updating Q\n",
      "updating Q\n",
      "updating Q\n",
      "updating Q\n",
      "updating Q\n",
      "updating Q\n",
      "updating Q\n",
      "updating Q\n",
      "updating Q\n",
      "updating Q\n",
      "updating Q\n",
      "updating Q\n",
      "updating Q\n",
      "updating Q\n",
      "updating Q\n",
      "updating Q\n",
      "updating Q\n",
      "updating Q\n",
      "updating Q\n",
      "updating Q\n",
      "updating Q\n",
      "updating Q\n",
      "updating Q\n",
      "updating Q\n",
      "updating Q\n",
      "updating Q\n",
      "updating Q\n",
      "updating Q\n",
      "updating Q\n",
      "updating Q\n",
      "updating Q\n",
      "updating Q\n",
      "updating Q\n",
      "updating Q\n",
      "updating Q\n",
      "Exposure inference with T=1, N=30, K=3 and 100 iterations took 0.03645773199968971 seconds\n",
      "\n"
     ]
    },
    {
     "name": "stderr",
     "output_type": "stream",
     "text": [
      "/home/jschulz/DynamicExposure/src/inference.py:49: RuntimeWarning: divide by zero encountered in true_divide\n",
      "  posterior = control_well_definedness(Q*np.log(1/Q) + (1-Q)*np.log(1/(1-Q))).sum()\n",
      "/home/jschulz/DynamicExposure/src/inference.py:49: RuntimeWarning: invalid value encountered in multiply\n",
      "  posterior = control_well_definedness(Q*np.log(1/Q) + (1-Q)*np.log(1/(1-Q))).sum()\n"
     ]
    }
   ],
   "source": [
    "losses_exp, theta_exp = fit(A0, 3,3, true_u=u, true_v=v, true_w=w, true_mu=mu, iter1=100)\n",
    "mu_exp,Q_exp,u_exp,v_exp,w_exp = theta_exp"
   ]
  },
  {
   "cell_type": "code",
   "execution_count": 6,
   "id": "b738bf14-e425-4b95-885e-0c11bdb58d79",
   "metadata": {},
   "outputs": [
    {
     "name": "stdout",
     "output_type": "stream",
     "text": [
      "Accuracy predicting mu:  1.0\n",
      "Accuracy predicting u:  1.0\n",
      "Accuracy predicting v:  1.0\n",
      "Accuracy predicting Z:  0.5440115481859049\n"
     ]
    }
   ],
   "source": [
    "print(\"Accuracy predicting mu: \", evaluate_memberships(mu, mu_exp, mu, mu_exp)[0])\n",
    "print(\"Accuracy predicting u: \", evaluate_memberships(u, u_exp, mu, mu_exp)[0])\n",
    "print(\"Accuracy predicting v: \", evaluate_memberships(v, v_exp, mu, mu_exp)[0])\n",
    "print(\"Accuracy predicting Z: \", calculate_AUC(Z, Q_exp))"
   ]
  },
  {
   "cell_type": "code",
   "execution_count": 13,
   "id": "23993c68-69ee-41a4-8f2f-99e4cbcd2934",
   "metadata": {},
   "outputs": [
    {
     "data": {
      "image/png": "[encoded data removed]",
      "text/plain": [
       "<Figure size 720x288 with 1 Axes>"
      ]
     },
     "metadata": {
      "needs_background": "light"
     },
     "output_type": "display_data"
    },
    {
     "data": {
      "image/png": "[encoded data removed]",
      "text/plain": [
       "<Figure size 720x288 with 1 Axes>"
      ]
     },
     "metadata": {
      "needs_background": "light"
     },
     "output_type": "display_data"
    },
    {
     "data": {
      "image/png": "[encoded data removed]",
      "text/plain": [
       "<Figure size 720x288 with 1 Axes>"
      ]
     },
     "metadata": {
      "needs_background": "light"
     },
     "output_type": "display_data"
    }
   ],
   "source": [
    "plot_losses(losses_exp[0], title=\"Loss Function\")\n",
    "plot_losses(losses_exp[1], title=\"Theta Updates\")\n",
    "plot_losses(losses_exp[2], title=\"Mu and Q Updates\")"
   ]
  },
  {
   "cell_type": "code",
   "execution_count": 8,
   "id": "a2c5d0d0-0780-43da-a304-d2ce615f851b",
   "metadata": {},
   "outputs": [
    {
     "data": {
      "text/plain": [
       "<matplotlib.image.AxesImage at 0x7fe7afa5b5e0>"
      ]
     },
     "execution_count": 8,
     "metadata": {},
     "output_type": "execute_result"
    },
    {
     "data": {
      "image/png": "[encoded data removed]",
      "text/plain": [
       "<Figure size 432x288 with 1 Axes>"
      ]
     },
     "metadata": {
      "needs_background": "light"
     },
     "output_type": "display_data"
    }
   ],
   "source": [
    "plt.imshow(Z.sum(axis=0))"
   ]
  },
  {
   "cell_type": "code",
   "execution_count": 9,
   "id": "c8d82c98-4d3a-4458-88b0-0a660a435e44",
   "metadata": {},
   "outputs": [
    {
     "data": {
      "text/plain": [
       "(1, 30, 30)"
      ]
     },
     "execution_count": 9,
     "metadata": {},
     "output_type": "execute_result"
    }
   ],
   "source": [
    "Z.shape"
   ]
  },
  {
   "cell_type": "code",
   "execution_count": 10,
   "id": "4119feed-7987-4c5f-b590-36e01e99f5f0",
   "metadata": {},
   "outputs": [
    {
     "data": {
      "text/plain": [
       "<matplotlib.image.AxesImage at 0x7fe7af9c4be0>"
      ]
     },
     "execution_count": 10,
     "metadata": {},
     "output_type": "execute_result"
    },
    {
     "data": {
      "image/png": "[encoded data removed]",
      "text/plain": [
       "<Figure size 432x288 with 1 Axes>"
      ]
     },
     "metadata": {
      "needs_background": "light"
     },
     "output_type": "display_data"
    }
   ],
   "source": [
    "plt.imshow(Q_exp.sum(axis=0))"
   ]
  },
  {
   "cell_type": "markdown",
   "id": "7985670b-ac2c-4188-a3d0-e0c06b97c33d",
   "metadata": {},
   "source": [
    "## No Exposure Inference"
   ]
  },
  {
   "cell_type": "code",
   "execution_count": null,
   "id": "beacde43-852f-4655-ab19-1b26984dc999",
   "metadata": {},
   "outputs": [],
   "source": []
  },
  {
   "cell_type": "code",
   "execution_count": 11,
   "id": "ca0fd5d8-6208-4dd3-8bfe-5acfd81a46d7",
   "metadata": {},
   "outputs": [
    {
     "name": "stdout",
     "output_type": "stream",
     "text": [
      "running NoExp inference for 20000 iterations: \n",
      "\n",
      "Convergence Criterium satisfied\n",
      "No exposure inference with T=1, N=30, K=3 and 1360 iterations took 0.8816388049999659 seconds\n",
      "\n"
     ]
    }
   ],
   "source": [
    "losses_noexp, theta_noexp = fit(A0, 3,3, iter1=100, exp=False)\n",
    "u_noexp,v_noexp,w_noexp = theta_noexp"
   ]
  },
  {
   "cell_type": "code",
   "execution_count": 12,
   "id": "fb183fd2-ac1d-4831-8e54-39c324012ac4",
   "metadata": {},
   "outputs": [
    {
     "name": "stdout",
     "output_type": "stream",
     "text": [
      "Acccuracy of predictions: \n",
      "\t u: 0.699781956342006\n",
      "\t v: 0.6915839284849372\n",
      "Zero estimate counts: \n",
      "\t u: 0\n",
      "\t v: 0\n",
      "\n",
      "\n",
      "\n"
     ]
    },
    {
     "data": {
      "text/plain": [
       "(0.699781956342006, 0.6915839284849372, 30, 30)"
      ]
     },
     "execution_count": 12,
     "metadata": {},
     "output_type": "execute_result"
    }
   ],
   "source": [
    "evaluate_memberships(u, u_noexp, v, v_noexp, verbose=True)"
   ]
  },
  {
   "cell_type": "code",
   "execution_count": null,
   "id": "7f3c249c-1e86-46a8-8e1d-1b8ad51337f5",
   "metadata": {},
   "outputs": [],
   "source": []
  }
 ],
 "metadata": {
  "kernelspec": {
   "display_name": "Python 3 (ipykernel)",
   "language": "python",
   "name": "python3"
  },
  "language_info": {
   "codemirror_mode": {
    "name": "ipython",
    "version": 3
   },
   "file_extension": ".py",
   "mimetype": "text/x-python",
   "name": "python",
   "nbconvert_exporter": "python",
   "pygments_lexer": "ipython3",
   "version": "3.9.7"
  }
 },
 "nbformat": 4,
 "nbformat_minor": 5
}
