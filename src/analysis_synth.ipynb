{
 "cells": [
  {
   "cell_type": "code",
   "execution_count": 1,
   "id": "43b9a3fd-4a91-460d-bd2f-4198a9fd0e37",
   "metadata": {},
   "outputs": [],
   "source": [
    "from network import *\n",
    "from inference import *\n",
    "import numpy as np\n",
    "from tools import *\n",
    "from os import listdir\n",
    "\n",
    "%load_ext autoreload\n",
    "%autoreload 2"
   ]
  },
  {
   "cell_type": "code",
   "execution_count": 2,
   "id": "59bb5623-b410-4e8e-95ea-a628935d8a65",
   "metadata": {},
   "outputs": [],
   "source": [
    "seeds = [697752728, 4190089612, 1176914559, 3077924848, 315917623, 2544020234, 1077758578, 4071300106, 534591752, 3553386411]\n",
    "Ts = [5,10,30,50,100]\n",
    "K_exps = [3,6,9]\n",
    "\n",
    "N = 100\n",
    "avg_degree_A0 = 100\n",
    "K_aff = 3\n",
    "dirichlet = 1\n",
    "prob_ratio = 0.1\n",
    "symmetric = True"
   ]
  },
  {
   "cell_type": "code",
   "execution_count": 3,
   "id": "908dcd99-c26d-46d8-9a7e-1d7997090330",
   "metadata": {},
   "outputs": [],
   "source": [
    "in_folder = \"../data/input/synth/\"\n",
    "out_folder = \"../data/output/synth/\""
   ]
  },
  {
   "cell_type": "code",
   "execution_count": 4,
   "id": "a8bbe56d-d46a-4d5c-843c-76fa65a4ddf7",
   "metadata": {},
   "outputs": [],
   "source": [
    "params = np.load(in_folder + \"params_3077924848_50_9.npz\")\n",
    "estimates = np.load(out_folder + \"params_3077924848_50_9_Exp_697752728_None.npz\")\n",
    "\n",
    "mu, Z, u, w = params[\"mu\"], params[\"Z\"], params[\"u\"], params[\"w\"]\n",
    "mu_est, Q, u_est, v_est, w_est = estimates[\"mu\"], estimates[\"Q\"], estimates[\"u\"], estimates[\"v\"], estimates[\"w\"]"
   ]
  },
  {
   "cell_type": "code",
   "execution_count": 5,
   "id": "719dff21-739d-4b0d-91d5-16ed2e51a0fd",
   "metadata": {},
   "outputs": [
    {
     "name": "stdout",
     "output_type": "stream",
     "text": [
      "Accuracy predicting mu:  0.4770159380140865\n",
      "Accuracy predicting u:  0.9674491503251211\n",
      "Accuracy predicting Z:  0.8329543409749067\n"
     ]
    }
   ],
   "source": [
    "print(\"Accuracy predicting mu: \", evaluate_memberships(mu, mu_est, mu, mu_est)[0])\n",
    "print(\"Accuracy predicting u: \", evaluate_memberships(u, u_est, mu, mu_est)[0])\n",
    "print(\"Accuracy predicting Z: \", calculate_AUC(Z, Q))"
   ]
  },
  {
   "cell_type": "code",
   "execution_count": 6,
   "id": "fb587b66-5255-441f-b885-987ed0072650",
   "metadata": {},
   "outputs": [],
   "source": [
    "params = np.load(in_folder + \"params_315917623_5_3.npz\")\n",
    "estimates = np.load(out_folder + \"params_315917623_5_3_NoExp_42_None.npz\")\n",
    "\n",
    "u, w = params[\"u\"], params[\"w\"]\n",
    "u_est, v_est, w_est = estimates[\"u\"], estimates[\"v\"], estimates[\"w\"]"
   ]
  },
  {
   "cell_type": "code",
   "execution_count": 7,
   "id": "9c2186e2-3d00-4ac0-8da3-8419211c9f12",
   "metadata": {},
   "outputs": [
    {
     "name": "stdout",
     "output_type": "stream",
     "text": [
      "Accuracy predicting u:  0.7309476553638149\n"
     ]
    }
   ],
   "source": [
    "print(\"Accuracy predicting u: \", evaluate_memberships(u, u_est, mu, mu_est)[0])"
   ]
  },
  {
   "cell_type": "code",
   "execution_count": null,
   "id": "d262be76-3141-4a90-ab64-cc080e4d3bab",
   "metadata": {},
   "outputs": [],
   "source": []
  }
 ],
 "metadata": {
  "kernelspec": {
   "display_name": "Python 3 (ipykernel)",
   "language": "python",
   "name": "python3"
  },
  "language_info": {
   "codemirror_mode": {
    "name": "ipython",
    "version": 3
   },
   "file_extension": ".py",
   "mimetype": "text/x-python",
   "name": "python",
   "nbconvert_exporter": "python",
   "pygments_lexer": "ipython3",
   "version": "3.9.7"
  }
 },
 "nbformat": 4,
 "nbformat_minor": 5
}
